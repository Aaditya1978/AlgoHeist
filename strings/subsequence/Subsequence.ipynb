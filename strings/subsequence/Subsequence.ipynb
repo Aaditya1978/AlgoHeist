{
 "cells": [
  {
   "cell_type": "code",
   "execution_count": 1,
   "metadata": {},
   "outputs": [
    {
     "name": "stdout",
     "output_type": "stream",
     "text": [
      " enter  acdgh\n",
      "\n",
      "h\n",
      "g\n",
      "gh\n",
      "d\n",
      "dh\n",
      "dg\n",
      "dgh\n",
      "c\n",
      "ch\n",
      "cg\n",
      "cgh\n",
      "cd\n",
      "cdh\n",
      "cdg\n",
      "cdgh\n",
      "a\n",
      "ah\n",
      "ag\n",
      "agh\n",
      "ad\n",
      "adh\n",
      "adg\n",
      "adgh\n",
      "ac\n",
      "ach\n",
      "acg\n",
      "acgh\n",
      "acd\n",
      "acdh\n",
      "acdg\n",
      "acdgh\n",
      "None\n"
     ]
    }
   ],
   "source": [
    "def fun(str , emp ):\n",
    "    if(0 == len(str)):\n",
    "        print(emp)\n",
    "        return\n",
    "        \n",
    "    ch = str[0]\n",
    "    roq = str[1:]\n",
    "    fun(roq , emp)\n",
    "    fun(roq , emp+ ch)\n",
    "\n",
    "a = input( ' enter  ')\n",
    "if(len(a) == 0):\n",
    "    print()\n",
    "    \n",
    "ans = fun(a , \"\")\n",
    "print(ans)"
   ]
  },
  {
   "cell_type": "code",
   "execution_count": null,
   "metadata": {},
   "outputs": [],
   "source": []
  }
 ],
 "metadata": {
  "kernelspec": {
   "display_name": "Python 3",
   "language": "python",
   "name": "python3"
  },
  "language_info": {
   "codemirror_mode": {
    "name": "ipython",
    "version": 3
   },
   "file_extension": ".py",
   "mimetype": "text/x-python",
   "name": "python",
   "nbconvert_exporter": "python",
   "pygments_lexer": "ipython3",
   "version": "3.7.6"
  }
 },
 "nbformat": 4,
 "nbformat_minor": 4
}
